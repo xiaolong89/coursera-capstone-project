{
    "cells": [
        {
            "cell_type": "markdown",
            "metadata": {
                "collapsed": true
            },
            "source": "# Introduction/Business Problem"
        },
        {
            "cell_type": "markdown",
            "metadata": {},
            "source": "<p>A Client presents themselves requesting a consultation to identify the optimal location to open an Asian restaurant in Las Vegas. This project is of critical importance to the Client. Many factors contribute to a restaurant's success, and location is a leading factor. It is important that the Client be located in a geographic area with other restaurants, but not a high concentration of Asian restaurants. The Client's establishment will be open for lunch and dinner service. It is therefore desired that the shop be located in an area with the opportunity for high foot fall from non-dining establishments (e.g. near hospitals and other businesses) to attract the lunch crowd.</p>\n<p>Client Description:</p>\n<ul>\n    <li>Two entrepreneurs with prior experience in managing Asian dining establishments</li>\n    <li>Partners plan to open their first restuarant within the next 8 months</li>\n    <li>Both reside on the West side of town and would prefer a location closer to their residence</li>\n</ul>\n<p>Project Deliverables:</p>\n<ul>\n    <li>Top three recommendations on the optimal location for the Client to open their establishment</li>\n    <li>Visual component of the report to include a map with markers highlighting non-dining establishments in the area as well as non-Asian dining establishments</li>\n</ul>"
        },
        {
            "cell_type": "markdown",
            "metadata": {},
            "source": "# Data"
        },
        {
            "cell_type": "markdown",
            "metadata": {},
            "source": "<p>To conduct the analysis for the Client location data will be used. Foursquare's location data will be the source of geographical location data used in this analysis.</p>\n<p>The specific Foursquare location data to be used includes the Venue endpoint group with the explore and category endpoints. Additional endpoints may be utilized, but these two are the primary endpoints I anticipate using. From this data I will extract venue locations as well as venue category. Categories will be used to identify Asian restaurants and non-Asian restuarants as well as non-restaurant establishments.</p>\n<p>Geo coordinates for Las Vegas will also be required. This data will be obtained using Geo Code. This geo data, specificially lat/lng coordinates, will be used to cluster the Las Vegas neighborhoods. Specific neighborhood and zip code data will be obtained from <a href=\"https://www.geopostcodes.com/Clark_Nevada\">GeoPostcodes</a>. The GeoPostcodes data will include neighborhoods (called Places in their dataset) and the zip code(s) in those neighborhoods. Some neighborhoods will only have one zip code while others may have multiple zip codes.</p>\n<p>Combining the data from Foursquare and GeoPostcodes, joining on the establishment zip code from Foursquare with neighborhood zip codes from GeoPostcodes, will allow me to view the establishments in each Las Vegas neighborhood. The neighborhood(s) with the best mix of establishments per the Client's request will be recommended for their restaurant.</p>"
        },
        {
            "cell_type": "markdown",
            "metadata": {},
            "source": "# Methodology @hidden_cell"
        },
        {
            "cell_type": "markdown",
            "metadata": {},
            "source": "# Results @hidden_cell"
        },
        {
            "cell_type": "markdown",
            "metadata": {},
            "source": "# Discussion @hidden_cell"
        },
        {
            "cell_type": "markdown",
            "metadata": {},
            "source": "# Conclusion @hidden_cell"
        }
    ],
    "metadata": {
        "kernelspec": {
            "display_name": "Python 3.7",
            "language": "python",
            "name": "python3"
        },
        "language_info": {
            "codemirror_mode": {
                "name": "ipython",
                "version": 3
            },
            "file_extension": ".py",
            "mimetype": "text/x-python",
            "name": "python",
            "nbconvert_exporter": "python",
            "pygments_lexer": "ipython3",
            "version": "3.7.9"
        }
    },
    "nbformat": 4,
    "nbformat_minor": 1
}