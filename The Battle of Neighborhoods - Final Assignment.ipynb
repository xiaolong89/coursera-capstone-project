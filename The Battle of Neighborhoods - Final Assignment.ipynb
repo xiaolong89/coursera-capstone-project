{
    "cells": [
        {
            "cell_type": "markdown",
            "metadata": {
                "collapsed": true
            },
            "source": "# Introduction/Business Problem"
        },
        {
            "cell_type": "markdown",
            "metadata": {},
            "source": "<p>A Client presents themselves requesting a consultation to identify the optimal location to open an Asian restaurant in Las Vegas. This project is of critical importance to the Client. Many factors contribute to a restaurant's success, and location is a leading factor. It is important that the Client be located in a geographic area with other restaurants, but not a high concentration of Asian restaurants. The Client's establishment will be open for lunch and dinner service. It is therefore desired that the shop be located in an area with the opportunity for high foot fall from non-dining establishments (e.g. near hospitals and other businesses) to attract the lunch crowd.</p>\n<p>Client Description:</p>\n<ul>\n    <li>Two entrepreneurs with prior experience in managing Asian dining establishments</li>\n    <li>Partners plan to open their first restuarant within the next 8 months</li>\n    <li>Both reside on the West side of town and would prefer a location closer to their residence</li>\n</ul>\n<p>Project Deliverables:</p>\n<ul>\n    <li>Top three recommendations on the optimal location for the Client to open their establishment</li>\n    <li>Visual component of the report to include a map with markers highlighting non-dining establishments in the area as well as non-Asian dining establishments</li>\n</ul>"
        },
        {
            "cell_type": "markdown",
            "metadata": {},
            "source": "# Data"
        },
        {
            "cell_type": "markdown",
            "metadata": {},
            "source": "<p>To conduct the analysis for the Client location data will be used. Foursquare's location data will be the source of geographical location data used in this analysis.</p>\n<p>The specific Foursquare location data to be used includes the Venue endpoint group with the explore and category endpoints. Additional endpoints may be utilized, but these two are the primary endpoints I anticipate using. From this data I will extract venue locations as well as venue category. Categories will be used to identify Asian restaurants and non-Asian restuarants as well as non-restaurant establishments.</p>\n<p>Geo coordinates for Las Vegas will also be required. This data will be obtained using Geo Code. This geo data, specificially lat/lng coordinates, will be used to cluster the Las Vegas neighborhoods. Specific neighborhood and zip code data will be obtained from <a href=\"https://www.geopostcodes.com/Clark_Nevada\">GeoPostcodes</a>. The GeoPostcodes data will include neighborhoods (called Places in their dataset) and the zip code(s) in those neighborhoods. Some neighborhoods will only have one zip code while others may have multiple zip codes.</p>\n<p>Combining the data from Foursquare and GeoPostcodes, joining on the establishment zip code from Foursquare with neighborhood zip codes from GeoPostcodes, will allow me to view the establishments in each Las Vegas neighborhood. The neighborhood(s) with the best mix of establishments per the Client's request will be recommended for their restaurant.</p>"
        },
        {
            "cell_type": "markdown",
            "metadata": {},
            "source": "# Methodology"
        },
        {
            "cell_type": "markdown",
            "metadata": {},
            "source": "<p>The project first requires the ingestion of the City and geo coordinate data. Once the two data sets are merged it's possible to cluster the neighborhoods. An inital exploration, in this case for South Summerlin, will return lat/lng coordiantes and a dataframe with top categories and establishments. This portion of the analysis is to assess whether the code is running as expected and to ensure the output makes sense. Upon verification we analyze all the neighborhoods in the dataset. Exploratory data analysis returns a count of the venue categories in each neighborhood. From first glance we see that the top 3 neighborhoods by count of venue category includes Spring Valley, Southwest, and Anthem. We know that the Client request described in the introduction would like to see options on the West side of town. As Anthem is located on the East side of town we can continue the evaluation, but understanding that Anthem will need to present some very promising results to be a real consideration. Both Spring Valley and Southwest neighborhoods are on the West side and check the Client's geo preference.</p>\n<p>We next continue with one hot encoding to convert categorical variables into a form suited for an ML algorithm. The next phase involves finding the Top 10 venues in each neighborhood. Recall the introduction where we want to identify the neighborhood that has a number of non-restaurant and non-Asian restaurant establishments. This ensure the Client finds a location with other businesses to suppor the lunch hour while not competing with a high number of similar, Asian-themed restaurants.</p>\n<p>The next step is to cluster the neighborhoods and identify the top 10 venues in each cluster.</p>\n<p>The final phase was to visually plot and examine each cluster. Specifically we are looking for the cluster(s) that satisfies the criteria specified in the introduction.</p>"
        },
        {
            "cell_type": "markdown",
            "metadata": {},
            "source": "# Results & Discussion"
        },
        {
            "cell_type": "markdown",
            "metadata": {},
            "source": "<p>Upon reviewing each cluster we notice that some specific zip codes within clusters present the best locations for the new restaurant.</p>\n<p>The South Summerlin zip codes of 89135, 89117, 89145 and 89144 are viable options. They are on the proper side of two and we don't see any Asian restaurants in the top 10 venues.</p>\n<p>The Spring Valley zip codes of 89102, 89146, 89103, and 89147 are also viable options. While the geo is correct, the area does see other Asian restaurants in the top 10 venues. While not in the top 5, these other establishments could present some competition that the new restaurant would have to contend with.</p>\n<p>We can see that the Summerlin area wouldn't be a great option. While known as an affluent part of town, this area has many competing establishments and would not be a viable option.</p>\n<p>The final observation and recommendation is that the Southwest neighborhood also presents opportunities. Specifically, zip codes 89109, 89119, and 89123 present good options.</p>\n<p>Understanding the city of Las Vegas and the areas identified, we would recommend the Client open a restaurant in the zip codes identified in the Southwest portion of town. South Summerlin would also be a good option, but the proximity provided to high tourist areas and higher education institutions would make the Southwest a strong candidate for a restaurant.</p>"
        },
        {
            "cell_type": "markdown",
            "metadata": {},
            "source": "# Conclusion"
        },
        {
            "cell_type": "markdown",
            "metadata": {},
            "source": "<p>This report started with a problem common to many entrepreneurs. Namely, where to open their business. By analyzing Foursquare data along with building clusters of Las Vegas neighborhoods, we have been able to identify idea zip codes to be considered for a new restaurant. Specific criteria outlined in the introduction were considered."
        }
    ],
    "metadata": {
        "kernelspec": {
            "display_name": "Python 3.7",
            "language": "python",
            "name": "python3"
        },
        "language_info": {
            "codemirror_mode": {
                "name": "ipython",
                "version": 3
            },
            "file_extension": ".py",
            "mimetype": "text/x-python",
            "name": "python",
            "nbconvert_exporter": "python",
            "pygments_lexer": "ipython3",
            "version": "3.7.9"
        }
    },
    "nbformat": 4,
    "nbformat_minor": 1
}